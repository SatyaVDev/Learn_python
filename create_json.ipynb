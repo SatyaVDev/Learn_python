{
 "cells": [
  {
   "cell_type": "code",
   "execution_count": 24,
   "id": "b8de780b-6d56-49be-b60d-31161e438ac7",
   "metadata": {},
   "outputs": [],
   "source": [
    "import pandas as pd"
   ]
  },
  {
   "cell_type": "code",
   "execution_count": 37,
   "id": "6984adc1-b525-49c9-b4fb-51d816ad66b6",
   "metadata": {},
   "outputs": [],
   "source": [
    "df  = pd.read_csv('./Data/customers-100.csv')"
   ]
  },
  {
   "cell_type": "code",
   "execution_count": 40,
   "id": "ba5d4c3c-fb53-4795-9235-62eae7e0d82d",
   "metadata": {},
   "outputs": [
    {
     "name": "stdout",
     "output_type": "stream",
     "text": [
      " Index     Customer Id First Name Last Name         Company              City             Country         Phone 1             Phone 2                    Email Subscription Date                    Website\n",
      "     1 DD37Cf93aecA6Dc     Sheryl    Baxter Rasmussen Group      East Leonard               Chile    229.077.5154    397.884.0519x718 zunigavanessa@smith.info        2020-08-24 http://www.stephenson.com/\n",
      "     2 1Ef7b82A4CAAD10    Preston    Lozano     Vega-Gentry East Jimmychester            Djibouti      5153435776    686-620-1820x944          vmata@colon.com        2021-04-23      http://www.hobbs.com/\n",
      "     3 6F94879bDAfE5a6        Roy     Berry   Murillo-Perry     Isabelborough Antigua and Barbuda +1-539-402-0259 (496)978-3969x58947      beckycarr@hogan.com        2020-03-25   http://www.lawrence.com/\n"
     ]
    }
   ],
   "source": [
    "print(df.head(3).to_string(index=False))"
   ]
  },
  {
   "cell_type": "code",
   "execution_count": null,
   "id": "215a1da1-2335-4298-855d-e23ee999f7af",
   "metadata": {},
   "outputs": [],
   "source": []
  }
 ],
 "metadata": {
  "kernelspec": {
   "display_name": "Python 3 (ipykernel)",
   "language": "python",
   "name": "python3"
  },
  "language_info": {
   "codemirror_mode": {
    "name": "ipython",
    "version": 3
   },
   "file_extension": ".py",
   "mimetype": "text/x-python",
   "name": "python",
   "nbconvert_exporter": "python",
   "pygments_lexer": "ipython3",
   "version": "3.10.12"
  }
 },
 "nbformat": 4,
 "nbformat_minor": 5
}
